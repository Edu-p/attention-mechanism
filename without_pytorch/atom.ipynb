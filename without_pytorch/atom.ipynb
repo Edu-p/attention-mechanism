{
 "cells": [
  {
   "cell_type": "markdown",
   "id": "d32558f4-a16c-4dc1-999b-ad97b810fac0",
   "metadata": {},
   "source": [
    "# Anotações"
   ]
  },
  {
   "cell_type": "markdown",
   "id": "8ab797c0-1dc8-4071-9d98-c46914aa7e89",
   "metadata": {},
   "source": [
    "- dado uma sequencia de entrada eu quero gerar uma sequencia de saida\n",
    "    - nesse caso da gente vamos prever uma sequencia de tamanho igual a 10, quanto maior quanto mais preciso é o modelo\n",
    "    - não tem nada infinito! sempre tem uma limitação\n",
    "        - nós não temos limite de saida de texto \n",
    "\n",
    "- O modelo trnasfomer tem algumas partes principais:\n",
    "    - Camada\n",
    "        - Embedding -> transforma tokens em vetor numérico de tamanho fixo\n",
    "        - Mecanismo de atenção -> Permite que modelo foque em diferentes partes da entrada\n",
    "        - Encoder e Decoder -> processam os dados sequencialmente\n",
    "        - Linear e softmax -> para predições finais\n",
    "\n",
    "- nesse curso vamos implementar o mvp, sem ser com o encoder e decoder, eles melhoram a performance."
   ]
  },
  {
   "cell_type": "code",
   "execution_count": null,
   "id": "321c421f-8ce5-4a97-b82f-b64b3f52b412",
   "metadata": {},
   "outputs": [],
   "source": []
  },
  {
   "cell_type": "markdown",
   "id": "9b52f0e7-0a51-4415-9293-dbf056ce5f63",
   "metadata": {},
   "source": [
    "# Imports"
   ]
  },
  {
   "cell_type": "code",
   "execution_count": null,
   "id": "1b223458-3740-474c-a5d1-a17e4a1436bd",
   "metadata": {},
   "outputs": [],
   "source": [
    "import numpy as np"
   ]
  },
  {
   "cell_type": "markdown",
   "id": "a8ad56fa-d618-43d3-8441-a3d1fe5f343e",
   "metadata": {},
   "source": [
    "# Hiperparam"
   ]
  },
  {
   "cell_type": "code",
   "execution_count": null,
   "id": "b7ba0a5b-b28a-41a8-8e34-a1b4151ce1d7",
   "metadata": {},
   "outputs": [],
   "source": [
    "# dimensão do modelo\n",
    "dim_model = 64\n",
    "\n",
    "# comprimento da sequencia\n",
    "seq_length = 10\n",
    "\n",
    "# tamanho do vocabulário(ele que vai permitir o contexto)\n",
    "vocab_size = 100"
   ]
  },
  {
   "cell_type": "markdown",
   "id": "be8824a7-c9e5-4a93-8141-a0c853547e44",
   "metadata": {},
   "source": [
    "# Camada de embedding"
   ]
  },
  {
   "cell_type": "code",
   "execution_count": null,
   "id": "f2f0dd92-49cd-4c26-a4da-245d6010fecf",
   "metadata": {},
   "outputs": [],
   "source": [
    "def embedding(input, vocab_size, dim_model):\n",
    "    embed = np.random.randn(vocab_size, dim_model)\n",
    "\n",
    "    return np.array([embed[i] for i in input])"
   ]
  }
 ],
 "metadata": {
  "kernelspec": {
   "display_name": "Python 3 (ipykernel)",
   "language": "python",
   "name": "python3"
  },
  "language_info": {
   "codemirror_mode": {
    "name": "ipython",
    "version": 3
   },
   "file_extension": ".py",
   "mimetype": "text/x-python",
   "name": "python",
   "nbconvert_exporter": "python",
   "pygments_lexer": "ipython3",
   "version": "3.9.12"
  }
 },
 "nbformat": 4,
 "nbformat_minor": 5
}
